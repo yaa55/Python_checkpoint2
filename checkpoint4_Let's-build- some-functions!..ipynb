{
 "cells": [
  {
   "cell_type": "code",
   "execution_count": 1,
   "id": "eaa615a2",
   "metadata": {},
   "outputs": [
    {
     "data": {
      "text/plain": [
       "9"
      ]
     },
     "execution_count": 1,
     "metadata": {},
     "output_type": "execute_result"
    }
   ],
   "source": [
    "\n",
    "def fonction(a,b,c):\n",
    "    if a > b:\n",
    "        r=a\n",
    "    else:\n",
    "        r = b\n",
    "   \n",
    "    if r < c:\n",
    "        i = c\n",
    "    else :\n",
    "        i = r\n",
    "    \n",
    "    return i\n",
    "    \n",
    "fonction(20, 35, 19)"
   ]
  },
  {
   "cell_type": "code",
   "execution_count": 3,
   "id": "9aeabd7e",
   "metadata": {},
   "outputs": [
    {
     "name": "stdout",
     "output_type": "stream",
     "text": [
      "1er chiffre : 5\n",
      "2nd chiffre : 5\n",
      "10 0\n"
     ]
    }
   ],
   "source": [
    "a  = int(input(\"1er chiffre : \"))\n",
    "b  = int(input(\"2nd chiffre : \"))\n",
    "def sumz(x,y):\n",
    "    return x+y\n",
    "def cfv(x,y): \n",
    "    return x-y\n",
    "\n",
    "print(sumz(a,b), cfv(a,b))"
   ]
  },
  {
   "cell_type": "code",
   "execution_count": 40,
   "id": "3a27ca86",
   "metadata": {},
   "outputs": [
    {
     "name": "stdout",
     "output_type": "stream",
     "text": [
      "9\n"
     ]
    }
   ],
   "source": [
    "v = [2,4,3]\n",
    "\n",
    "def add(x):\n",
    "    s=0\n",
    "    for i in x:\n",
    "        s=s+i \n",
    "    print(s)\n",
    "\n",
    "rez(v)"
   ]
  },
  {
   "cell_type": "code",
   "execution_count": 41,
   "id": "0b30cf59",
   "metadata": {},
   "outputs": [
    {
     "name": "stdout",
     "output_type": "stream",
     "text": [
      "24\n"
     ]
    }
   ],
   "source": [
    "v = [2,4,3]\n",
    "def mult(x):\n",
    "    s=1\n",
    "    \n",
    "    for i in x:\n",
    "        s=s*i \n",
    "    print(s)\n",
    "    \n",
    "trg(v)"
   ]
  },
  {
   "cell_type": "code",
   "execution_count": 39,
   "id": "64f683d9",
   "metadata": {},
   "outputs": [
    {
     "ename": "SyntaxError",
     "evalue": "EOL while scanning string literal (<ipython-input-39-f19bbde79336>, line 2)",
     "output_type": "error",
     "traceback": [
      "\u001b[1;36m  File \u001b[1;32m\"<ipython-input-39-f19bbde79336>\"\u001b[1;36m, line \u001b[1;32m2\u001b[0m\n\u001b[1;33m    \"for d in v:\u001b[0m\n\u001b[1;37m                ^\u001b[0m\n\u001b[1;31mSyntaxError\u001b[0m\u001b[1;31m:\u001b[0m EOL while scanning string literal\n"
     ]
    }
   ],
   "source": [
    "v = [2,4,3]\n",
    "\"for d in v:\n",
    "print(v.length())"
   ]
  },
  {
   "cell_type": "code",
   "execution_count": 50,
   "id": "15daea9d",
   "metadata": {},
   "outputs": [
    {
     "name": "stdout",
     "output_type": "stream",
     "text": [
      "10\n",
      "18\n",
      "None None\n"
     ]
    }
   ],
   "source": [
    "v=0\n",
    "i=0\n",
    "v=[2,6,8,3]\n",
    "v_pair=[]\n",
    "v_imp=[]\n",
    "for i in range (len (v)):\n",
    "    if i%2==0:\n",
    "        v_pair.append(v[i])\n",
    "    else:\n",
    "        v_imp.append(v[i])\n",
    "        \n",
    "print(add(v_pair),mult(v_imp))"
   ]
  },
  {
   "cell_type": "code",
   "execution_count": 75,
   "id": "87720508",
   "metadata": {},
   "outputs": [
    {
     "name": "stdout",
     "output_type": "stream",
     "text": [
      "['black', 'green', 'red', 'white', 'yellow']\n"
     ]
    }
   ],
   "source": [
    "v = \"green-red-yellow-black-white\"\n",
    "v =v.split(\"-\")\n",
    "v = sorted(v)\n",
    "print(v)\n"
   ]
  },
  {
   "cell_type": "code",
   "execution_count": 90,
   "id": "a7c763e5",
   "metadata": {},
   "outputs": [
    {
     "name": "stdout",
     "output_type": "stream",
     "text": [
      "18.257418583505537\n"
     ]
    }
   ],
   "source": [
    "from math import sqrt\n",
    "c=50\n",
    "h=30\n",
    "d=100\n",
    "q= sqrt((2*c*d)/h)\n",
    "print(q)"
   ]
  },
  {
   "cell_type": "code",
   "execution_count": null,
   "id": "7622cc4b",
   "metadata": {},
   "outputs": [],
   "source": []
  }
 ],
 "metadata": {
  "kernelspec": {
   "display_name": "Python 3",
   "language": "python",
   "name": "python3"
  },
  "language_info": {
   "codemirror_mode": {
    "name": "ipython",
    "version": 3
   },
   "file_extension": ".py",
   "mimetype": "text/x-python",
   "name": "python",
   "nbconvert_exporter": "python",
   "pygments_lexer": "ipython3",
   "version": "3.8.8"
  }
 },
 "nbformat": 4,
 "nbformat_minor": 5
}
