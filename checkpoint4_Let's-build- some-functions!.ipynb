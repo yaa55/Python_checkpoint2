{
 "cells": [
  {
   "cell_type": "code",
   "execution_count": 68,
   "id": "e245e619",
   "metadata": {},
   "outputs": [
    {
     "data": {
      "text/plain": [
       "35"
      ]
     },
     "execution_count": 68,
     "metadata": {},
     "output_type": "execute_result"
    }
   ],
   "source": [
    "\n",
    "def fonction(a,b,c):\n",
    "    if a > b:\n",
    "        r=a\n",
    "    else:\n",
    "        r = b\n",
    "   \n",
    "    if r < c:\n",
    "        i = c\n",
    "    else :\n",
    "        i = r\n",
    "    \n",
    "    return i\n",
    "    \n",
    "fonction(20, 35, 19)"
   ]
  },
  {
   "cell_type": "code",
   "execution_count": 69,
   "id": "a4c7106b",
   "metadata": {},
   "outputs": [
    {
     "name": "stdout",
     "output_type": "stream",
     "text": [
      "1er chiffre2\n",
      "2nd chiffre3\n",
      "5 -1\n"
     ]
    }
   ],
   "source": [
    "a  = int(input(\"1er chiffre\"))\n",
    "b  = int(input(\"2nd chiffre\"))\n",
    "def sumz(x,y):\n",
    "    return x+y\n",
    "def cfv(x,y): \n",
    "    return x-y\n",
    "\n",
    "print(sumz(a,b), cfv(a,b))"
   ]
  },
  {
   "cell_type": "code",
   "execution_count": 70,
   "id": "8f681fcb",
   "metadata": {},
   "outputs": [
    {
     "name": "stdout",
     "output_type": "stream",
     "text": [
      "9\n"
     ]
    }
   ],
   "source": [
    "v = [2,4,3]\n",
    "s=0\n",
    "for i in v:\n",
    "    s=s+i \n",
    "print(s)"
   ]
  },
  {
   "cell_type": "code",
   "execution_count": 71,
   "id": "39fc4bd5",
   "metadata": {},
   "outputs": [
    {
     "name": "stdout",
     "output_type": "stream",
     "text": [
      "24\n"
     ]
    }
   ],
   "source": [
    "v = [2,4,3]\n",
    "s=1\n",
    "for i in v:\n",
    "    s=s*i \n",
    "print(s)"
   ]
  },
  {
   "cell_type": "code",
   "execution_count": 73,
   "id": "d1786e76",
   "metadata": {},
   "outputs": [
    {
     "ename": "TypeError",
     "evalue": "sum() missing 1 required positional argument: 'y'",
     "output_type": "error",
     "traceback": [
      "\u001b[1;31m---------------------------------------------------------------------------\u001b[0m",
      "\u001b[1;31mTypeError\u001b[0m                                 Traceback (most recent call last)",
      "\u001b[1;32m<ipython-input-73-07d0b119add4>\u001b[0m in \u001b[0;36m<module>\u001b[1;34m\u001b[0m\n\u001b[0;32m      1\u001b[0m \u001b[0mv\u001b[0m \u001b[1;33m=\u001b[0m\u001b[1;33m[\u001b[0m\u001b[1;36m2\u001b[0m\u001b[1;33m,\u001b[0m\u001b[1;36m4\u001b[0m\u001b[1;33m,\u001b[0m\u001b[1;36m3\u001b[0m\u001b[1;33m]\u001b[0m\u001b[1;33m\u001b[0m\u001b[1;33m\u001b[0m\u001b[0m\n\u001b[1;32m----> 2\u001b[1;33m \u001b[0msum\u001b[0m\u001b[1;33m(\u001b[0m\u001b[0mv\u001b[0m\u001b[1;33m)\u001b[0m\u001b[1;33m\u001b[0m\u001b[1;33m\u001b[0m\u001b[0m\n\u001b[0m",
      "\u001b[1;31mTypeError\u001b[0m: sum() missing 1 required positional argument: 'y'"
     ]
    }
   ],
   "source": [
    "v =[2,4,3]\n",
    "sum(v)"
   ]
  },
  {
   "cell_type": "code",
   "execution_count": null,
   "id": "249f6c70",
   "metadata": {},
   "outputs": [],
   "source": []
  }
 ],
 "metadata": {
  "kernelspec": {
   "display_name": "Python 3",
   "language": "python",
   "name": "python3"
  },
  "language_info": {
   "codemirror_mode": {
    "name": "ipython",
    "version": 3
   },
   "file_extension": ".py",
   "mimetype": "text/x-python",
   "name": "python",
   "nbconvert_exporter": "python",
   "pygments_lexer": "ipython3",
   "version": "3.8.8"
  }
 },
 "nbformat": 4,
 "nbformat_minor": 5
}
