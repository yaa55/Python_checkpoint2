{
 "cells": [
  {
   "cell_type": "code",
   "execution_count": null,
   "id": "ce6d56ec",
   "metadata": {},
   "outputs": [],
   "source": [
    "import numpy as np"
   ]
  },
  {
   "cell_type": "code",
   "execution_count": 6,
   "id": "436471bf",
   "metadata": {},
   "outputs": [
    {
     "data": {
      "text/plain": [
       "'k is found'"
      ]
     },
     "execution_count": 6,
     "metadata": {},
     "output_type": "execute_result"
    }
   ],
   "source": [
    "def binary_search(A, l, h, k):\n",
    "    if h >= l:\n",
    "        mid = int(l + (h - l)/2)\n",
    "       \n",
    "        if A[mid] == k:\n",
    "            return 'k is found'\n",
    "        elif A[mid] > k:\n",
    "            return binary_search(A, l, mid-1, k)\n",
    "        else:\n",
    "            return binary_search(A, mid+1, h, k)\n",
    "    else:\n",
    "        return 'k is not found'\n",
    "\n",
    "A=[1,2,3,5,8]\n",
    "k=5;l=0; h=len(A)-1;\n",
    "binary_search(A, l, h, k)\n"
   ]
  },
  {
   "cell_type": "code",
   "execution_count": 10,
   "id": "dec102ba",
   "metadata": {},
   "outputs": [
    {
     "data": {
      "text/plain": [
       "81"
      ]
     },
     "execution_count": 10,
     "metadata": {},
     "output_type": "execute_result"
    }
   ],
   "source": [
    "def power(a,b):\n",
    "    x = a**b\n",
    "    return x\n",
    "power(3,4)"
   ]
  },
  {
   "cell_type": "code",
   "execution_count": 11,
   "id": "bfe6c6d1",
   "metadata": {},
   "outputs": [
    {
     "data": {
      "text/plain": [
       "[13, 22, 29, 37, 46, 49, 52, 56, 71]"
      ]
     },
     "execution_count": 11,
     "metadata": {},
     "output_type": "execute_result"
    }
   ],
   "source": [
    "def bubbleSort(nlist):\n",
    "    for passnum in range(len(nlist)-1,0,-1):\n",
    "        for i in range(passnum):\n",
    "            if nlist[i]>nlist[i+1]:\n",
    "                temp = nlist[i]\n",
    "                nlist[i] = nlist[i+1]\n",
    "                nlist[i+1] = temp\n",
    "    return nlist\n",
    "\n",
    "nlist = [29,13,22,37,52,49,46,71,56]\n",
    "bubbleSort(nlist)"
   ]
  },
  {
   "cell_type": "code",
   "execution_count": 12,
   "id": "25df0ab8",
   "metadata": {},
   "outputs": [
    {
     "name": "stdout",
     "output_type": "stream",
     "text": [
      "[13, 22, 29, 37, 46, 49, 52, 56, 71]\n"
     ]
    }
   ],
   "source": [
    "def mergeSort(myList):\n",
    "    if len(myList) > 1:\n",
    "        mid = len(myList) // 2\n",
    "        left = myList[:mid]\n",
    "        right = myList[mid:]\n",
    "\n",
    "        # Recursive call on each half\n",
    "        mergeSort(left)\n",
    "        mergeSort(right)\n",
    "\n",
    "        # Two iterators for traversing the two halves\n",
    "        i = 0\n",
    "        j = 0\n",
    "        \n",
    "        # Iterator for the main list\n",
    "        k = 0\n",
    "        \n",
    "        while i < len(left) and j < len(right):\n",
    "            if left[i] < right[j]:\n",
    "              # The value from the left half has been used\n",
    "              myList[k] = left[i]\n",
    "              # Move the iterator forward\n",
    "              i += 1\n",
    "            else:\n",
    "                myList[k] = right[j]\n",
    "                j += 1\n",
    "            # Move to the next slot\n",
    "            k += 1\n",
    "\n",
    "        # For all the remaining values\n",
    "        while i < len(left):\n",
    "            myList[k] = left[i]\n",
    "            i += 1\n",
    "            k += 1\n",
    "\n",
    "        while j < len(right):\n",
    "            myList[k]=right[j]\n",
    "            j += 1\n",
    "            k += 1\n",
    "\n",
    "myList = [29,13,22,37,52,49,46,71,56]\n",
    "mergeSort(myList)\n",
    "print(myList)"
   ]
  },
  {
   "cell_type": "code",
   "execution_count": 40,
   "id": "ecf0e4e3",
   "metadata": {},
   "outputs": [
    {
     "name": "stdout",
     "output_type": "stream",
     "text": [
      "2\n"
     ]
    }
   ],
   "source": [
    "import numpy as np\n",
    "def partition(array, start, end):\n",
    "    pivot = array[start]\n",
    "    low = start + 1\n",
    "    high = end\n",
    "    while True:\n",
    "     \n",
    "        while low <= high and array[high] >= pivot:\n",
    "            high = high - 1\n",
    "\n",
    "        while low <= high and array[low] <= pivot:\n",
    "            low = low + 1\n",
    "\n",
    "        if low <= high:\n",
    "            array[low], array[high] = array[high], array[low]\n",
    "        else:\n",
    "            break\n",
    "\n",
    "    array[start], array[high] = array[high], array[start]\n",
    "\n",
    "    return high\n",
    "A = [29,13,22,37,52,49,46,71,56]\n",
    "A = np.array(A)\n",
    "print(partition(A, 0, len(A)-1))\n"
   ]
  },
  {
   "cell_type": "code",
   "execution_count": 42,
   "id": "ff5c29c9",
   "metadata": {},
   "outputs": [
    {
     "name": "stdout",
     "output_type": "stream",
     "text": [
      "Sorted array is:\n",
      "13\n",
      "22\n",
      "29\n",
      "37\n",
      "46\n",
      "49\n",
      "52\n",
      "56\n",
      "71\n"
     ]
    }
   ],
   "source": [
    "def partition(arr, low, high):\n",
    "    i = (low-1)         \n",
    "    pivot = arr[high]    \n",
    " \n",
    "    for j in range(low, high):\n",
    " \n",
    "        if arr[j] <= pivot:\n",
    " \n",
    "            i = i+1\n",
    "            arr[i], arr[j] = arr[j], arr[i]\n",
    " \n",
    "    arr[i+1], arr[high] = arr[high], arr[i+1]\n",
    "    return (i+1)\n",
    " \n",
    "\n",
    " \n",
    "def quickSort(arr, low, high):\n",
    "    if len(arr) == 1:\n",
    "        return arr\n",
    "    if low < high:\n",
    " \n",
    "        pi = partition(arr, low, high)\n",
    " \n",
    "        quickSort(arr, low, pi-1)\n",
    "        quickSort(arr, pi+1, high)\n",
    " \n",
    " \n",
    "arr = [29,13,22,37,52,49,46,71,56]\n",
    "n = len(arr)\n",
    "quickSort(arr, 0, n-1)\n",
    "print(\"Sorted array is:\")\n",
    "for i in range(n):\n",
    "    print(\"%d\" % arr[i])"
   ]
  },
  {
   "cell_type": "code",
   "execution_count": null,
   "id": "80e1340d",
   "metadata": {},
   "outputs": [],
   "source": []
  }
 ],
 "metadata": {
  "kernelspec": {
   "display_name": "Python 3",
   "language": "python",
   "name": "python3"
  },
  "language_info": {
   "codemirror_mode": {
    "name": "ipython",
    "version": 3
   },
   "file_extension": ".py",
   "mimetype": "text/x-python",
   "name": "python",
   "nbconvert_exporter": "python",
   "pygments_lexer": "ipython3",
   "version": "3.8.8"
  }
 },
 "nbformat": 4,
 "nbformat_minor": 5
}
