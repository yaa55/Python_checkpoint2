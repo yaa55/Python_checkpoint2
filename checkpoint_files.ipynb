{
 "cells": [
  {
   "cell_type": "code",
   "execution_count": 70,
   "id": "26c39752",
   "metadata": {},
   "outputs": [
    {
     "name": "stdout",
     "output_type": "stream",
     "text": [
      "['What is Python language?\\n', 'Python is a widely used high-level, general-purpose, interpreted, dynamic programming language.Its design philosophy emphasizes code \\n', 'readability, and its syntax allows programmers to express concepts in fewer lines of code than possible in \\n', 'languages such as C++ or Java.\\n', 'Python supports multiple programming paradigms, including object-oriented, imperative and functional programming or procedural styles. It \\n', 'features a dynamic type system and automatic memory management and has a large and comprehensive standard library.The best way we learn \\n', 'anything is by practice and exercise questions. We  have started this section for those (beginner to intermediate) who are familiar with \\n', 'Python.']\n"
     ]
    }
   ],
   "source": [
    "\n",
    "f=open(\"test.txt\",'r',encoding = 'utf-8')\n",
    "print(f.readlines())\n",
    "\n",
    "\n",
    "f.close()   \n"
   ]
  },
  {
   "cell_type": "code",
   "execution_count": 62,
   "id": "a232315f",
   "metadata": {},
   "outputs": [
    {
     "name": "stdout",
     "output_type": "stream",
     "text": [
      "n = 2\n",
      "['What is Python language?\\n', 'Python is a widely used high-level, general-purpose, interpreted, dynamic programming language.Its design philosophy emphasizes code readability, and its syntax allows programmers to express concepts in fewer lines of code than possible in \\n']\n"
     ]
    }
   ],
   "source": [
    "f=open(\"test.txt\",'r')\n",
    "n = int(input(\"n = \"))\n",
    "print(f.readlines()[:n])\n",
    "f.close()"
   ]
  },
  {
   "cell_type": "code",
   "execution_count": 67,
   "id": "a5868d76",
   "metadata": {},
   "outputs": [
    {
     "name": "stdout",
     "output_type": "stream",
     "text": [
      "n = 1\n",
      "['Python.']\n"
     ]
    }
   ],
   "source": [
    "f=open(\"test.txt\",'r',encoding = 'utf-8')\n",
    "n = int(input(\"n = \"))\n",
    "lines = f.readlines()\n",
    "last_line = lines[-n:]\n",
    "print(last_line)\n",
    "f.close()\n"
   ]
  },
  {
   "cell_type": "code",
   "execution_count": 72,
   "id": "acca83e7",
   "metadata": {},
   "outputs": [
    {
     "name": "stdout",
     "output_type": "stream",
     "text": [
      "148\n"
     ]
    }
   ],
   "source": [
    "def count_words(filepath):\n",
    "   with open(filepath) as f:\n",
    "       data = f.read()\n",
    "       data.replace(\",\", \" \")\n",
    "       return len(data.split(\" \"))\n",
    "\n",
    "f=open(\"test.txt\",'r',encoding = 'utf-8')\n",
    "\n",
    "print(count_words(\"test.txt\"))\n",
    "f.close()"
   ]
  },
  {
   "cell_type": "code",
   "execution_count": null,
   "id": "28138cd3",
   "metadata": {},
   "outputs": [],
   "source": []
  },
  {
   "cell_type": "code",
   "execution_count": null,
   "id": "52a40096",
   "metadata": {},
   "outputs": [],
   "source": []
  },
  {
   "cell_type": "code",
   "execution_count": null,
   "id": "80d2b9ce",
   "metadata": {},
   "outputs": [],
   "source": []
  },
  {
   "cell_type": "code",
   "execution_count": null,
   "id": "64a00e0e",
   "metadata": {},
   "outputs": [],
   "source": []
  },
  {
   "cell_type": "code",
   "execution_count": null,
   "id": "7009d461",
   "metadata": {},
   "outputs": [],
   "source": []
  },
  {
   "cell_type": "code",
   "execution_count": null,
   "id": "6e144333",
   "metadata": {},
   "outputs": [],
   "source": []
  }
 ],
 "metadata": {
  "kernelspec": {
   "display_name": "Python 3",
   "language": "python",
   "name": "python3"
  },
  "language_info": {
   "codemirror_mode": {
    "name": "ipython",
    "version": 3
   },
   "file_extension": ".py",
   "mimetype": "text/x-python",
   "name": "python",
   "nbconvert_exporter": "python",
   "pygments_lexer": "ipython3",
   "version": "3.8.8"
  }
 },
 "nbformat": 4,
 "nbformat_minor": 5
}
