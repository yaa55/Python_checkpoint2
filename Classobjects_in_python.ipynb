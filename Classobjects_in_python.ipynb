{
 "cells": [
  {
   "cell_type": "code",
   "execution_count": 21,
   "id": "08654acc",
   "metadata": {
    "scrolled": true
   },
   "outputs": [
    {
     "name": "stdout",
     "output_type": "stream",
     "text": [
      "1 2 3\n"
     ]
    }
   ],
   "source": [
    "class Point3D :\n",
    "    def __init__(self,x,y,z): \n",
    "        self.x =x\n",
    "        self.y =y\n",
    "        self.z = z\n",
    "\n",
    "my_point = Point3D(1,2,3)\n",
    "print( my_point.x, my_point.y, my_point.z)"
   ]
  },
  {
   "cell_type": "code",
   "execution_count": 14,
   "id": "b67b42a7",
   "metadata": {},
   "outputs": [
    {
     "name": "stdout",
     "output_type": "stream",
     "text": [
      "12 14\n"
     ]
    }
   ],
   "source": [
    "class rectangle :\n",
    "    def __init__(self,length,width):\n",
    "        self.length = length \n",
    "        self.width = width\n",
    "        \n",
    "    def area(self):\n",
    "        return self.length*self.width\n",
    "    def perimeter(self) :\n",
    "        return 2*(self.length+self.width)\n",
    "    \n",
    "my_rectangle = rectangle(3,4)\n",
    "print(my_rectangle.area(),my_rectangle.perimeter())\n"
   ]
  },
  {
   "cell_type": "code",
   "execution_count": 19,
   "id": "da387b4b",
   "metadata": {},
   "outputs": [
    {
     "name": "stdout",
     "output_type": "stream",
     "text": [
      "non\n"
     ]
    }
   ],
   "source": [
    "import math\n",
    "class circle :\n",
    "    def __init__(self,xo,yo,r):\n",
    "        self.xo =xo\n",
    "        self.yo =yo\n",
    "        self.r=r\n",
    "    def perimetre(self):\n",
    "        return r*2*math.pi\n",
    "    def area(self):\n",
    "        return r*r*math.pi\n",
    "    def Isinside(self,x,y):\n",
    "        return (math.sqrt((self.xo-x)**2+(self.yo-y)**2))\n",
    "C1 = circle(5,6,2)\n",
    "if C1.Isinside(8, 5) <= C1.r :\n",
    "    print(\"oui\")\n",
    "else : \n",
    "    print(\"non\")\n",
    "    \n",
    "    \n"
   ]
  },
  {
   "cell_type": "code",
   "execution_count": 12,
   "id": "0b3721f0",
   "metadata": {},
   "outputs": [],
   "source": [
    "class bank :\n",
    "    def __init__(self,balance):\n",
    "        self.balance = balance\n",
    "    def deposit(self,x):\n",
    "        return balance + x\n",
    "    def withdraw (self,x) :\n",
    "        return balance-x"
   ]
  },
  {
   "cell_type": "code",
   "execution_count": null,
   "id": "cddafe43",
   "metadata": {},
   "outputs": [],
   "source": []
  }
 ],
 "metadata": {
  "kernelspec": {
   "display_name": "Python 3",
   "language": "python",
   "name": "python3"
  },
  "language_info": {
   "codemirror_mode": {
    "name": "ipython",
    "version": 3
   },
   "file_extension": ".py",
   "mimetype": "text/x-python",
   "name": "python",
   "nbconvert_exporter": "python",
   "pygments_lexer": "ipython3",
   "version": "3.8.8"
  }
 },
 "nbformat": 4,
 "nbformat_minor": 5
}
